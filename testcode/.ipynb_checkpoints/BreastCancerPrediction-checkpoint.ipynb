{
 "cells": [
  {
   "cell_type": "code",
   "execution_count": 11,
   "id": "8cc03553",
   "metadata": {},
   "outputs": [],
   "source": [
    "import pandas as pd\n",
    "import numpy as np\n",
    "from sklearn.model_selection import train_test_split\n",
    "from sklearn.linear_model import LogisticRegression"
   ]
  },
  {
   "cell_type": "markdown",
   "id": "0b9a36bc",
   "metadata": {},
   "source": [
    "1、读取数据，处理缺失值以及标准化"
   ]
  },
  {
   "cell_type": "code",
   "execution_count": 12,
   "id": "d8b33e52",
   "metadata": {},
   "outputs": [
    {
     "name": "stdout",
     "output_type": "stream",
     "text": [
      "得出来的权重： [[ 0.39998553  0.55644246  0.35764285  0.18857731 -0.23447213  0.58533538\n",
      "   0.22859354  0.17687923  0.43750191]]\n",
      "预测的类别： [2 2 2 2 2 2 2 2 2 4 2 2 2 2 2 2 2 2 2 2 2 2 2 2 4 2 2 2 4 2 4 2 2 2 4 2 2\n",
      " 4 2 2 2 2 4 2 2 4 2 2 4 2 2 2 2 2 4 2 2 4 4 4 2 4 2 4 2 4 4 4 2 2 2 4 4 2\n",
      " 2 2 2 4 4 4 4 2 4 2 4 2 2 2 4 4 2 2 2 2 2 2 2 2 2 4 2 4 4 2 2 2 2 4 4 4 2\n",
      " 2 2 2 4 4 2 2 2 2 2 2 4 4 2 2 2 2 2 4 2 2 2 2 4 2 2 2 2 4 2 2 2 2 2 2 2 2\n",
      " 4 4 4 4 2 2 4 4 2 2 2 4 2 4 2 2 2 2 2 2 2 2 4 4 2 4 2 2 2 4 2 2 4 4 4 2 4\n",
      " 2 2 2 2 4 2 4 2 4 2 4 2 2 2 4 2 2 2 2 2]\n",
      "预测的准确率: 0.9658536585365853\n"
     ]
    }
   ],
   "source": [
    "column_name = ['Sample code number', 'Clump Thickness', 'Uniformity of Cell Size', 'Uniformity of Cell Shape',\n",
    "                   'Marginal Adhesion', 'Single Epithelial Cell Size', 'Bare Nuclei', 'Bland Chromatin',\n",
    "                   'Normal Nucleoli', 'Mitoses', 'Class']\n",
    "data = pd.read_csv(\n",
    "\"https://archive.ics.uci.edu/ml/machine-learning-databases/breast-cancer-wisconsin/breast-cancer-wisconsin.data\",\n",
    "                       names=column_name)\n",
    "# 删除缺失值\n",
    "data = data.replace(to_replace='?', value=np.nan)\n",
    "data = data.dropna()\n",
    "# 取出特征值\n",
    "x = data[column_name[1:10]]\n",
    "y = data[column_name[10]]\n",
    "# 分割数据集\n",
    "x_train, x_test, y_train, y_test = train_test_split(x, y, test_size=0.3)\n",
    "\n",
    "# 进行标准化\n",
    "#std = StandardScaler()\n",
    "#x_train = std.fit_transform(x_train)\n",
    "#x_test = std.transform(x_test)\n",
    "\n",
    "# 使用逻辑回归\n",
    "lr = LogisticRegression()\n",
    "lr.fit(x_train, y_train)\n",
    "print(\"得出来的权重：\", lr.coef_)\n",
    "# 预测类别\n",
    "print(\"预测的类别：\", lr.predict(x_test))\n",
    "# 得出准确率\n",
    "print(\"预测的准确率:\", lr.score(x_test, y_test))\n"
   ]
  },
  {
   "cell_type": "markdown",
   "id": "ef9bdd6b",
   "metadata": {},
   "source": [
    "分类评估报告API:\n",
    "sklearn.metrics.classification_report(y_true, y_pred, labels=[], target_names=None )\n",
    "y_true：真实目标值                 y_pred：估计器预测目标值\n",
    "labels:指定类别对应的数字           target_names：目标类别名称\n",
    "return：每个类别精确率与召回率"
   ]
  },
  {
   "cell_type": "code",
   "execution_count": 16,
   "id": "68f0f93c",
   "metadata": {},
   "outputs": [
    {
     "name": "stdout",
     "output_type": "stream",
     "text": [
      "精确率和召回率为：               precision    recall  f1-score   support\n",
      "\n",
      "          良性       0.98      0.97      0.98       144\n",
      "          恶性       0.94      0.95      0.94        61\n",
      "\n",
      "    accuracy                           0.97       205\n",
      "   macro avg       0.96      0.96      0.96       205\n",
      "weighted avg       0.97      0.97      0.97       205\n",
      "\n"
     ]
    }
   ],
   "source": [
    "from sklearn.metrics import classification_report\n",
    "print(\"精确率和召回率为：\", \n",
    "classification_report(y_test, lr.predict(x_test), labels=[2, 4], \n",
    "target_names=['良性', '恶性']))"
   ]
  },
  {
   "cell_type": "markdown",
   "id": "7d7057b3",
   "metadata": {},
   "source": [
    "AUC计算API\n",
    "sklearn.metrics.roc_auc_score(y_true, y_score)\n",
    "计算ROC曲线面积，即AUC值ay_true:每个样本的真实类别，必须为0(反例),1(正例)标记\n",
    "y_score:每个样本预测的概率值\n",
    "0.5~1之间，越接近于1越好\n"
   ]
  },
  {
   "cell_type": "code",
   "execution_count": 17,
   "id": "b9778130",
   "metadata": {},
   "outputs": [
    {
     "name": "stdout",
     "output_type": "stream",
     "text": [
      "AUC指标： 0.9615209471766849\n"
     ]
    }
   ],
   "source": [
    "from sklearn.metrics import roc_auc_score\n",
    "y_test = np.where(y_test > 2.5, 1, 0)\n",
    "print(\"AUC指标：\", roc_auc_score(y_test, lr.predict(x_test)))"
   ]
  },
  {
   "cell_type": "code",
   "execution_count": null,
   "id": "5f1f34aa",
   "metadata": {},
   "outputs": [],
   "source": []
  }
 ],
 "metadata": {
  "kernelspec": {
   "display_name": "Python 3",
   "language": "python",
   "name": "python3"
  },
  "language_info": {
   "codemirror_mode": {
    "name": "ipython",
    "version": 3
   },
   "file_extension": ".py",
   "mimetype": "text/x-python",
   "name": "python",
   "nbconvert_exporter": "python",
   "pygments_lexer": "ipython3",
   "version": "3.6.8"
  }
 },
 "nbformat": 4,
 "nbformat_minor": 5
}

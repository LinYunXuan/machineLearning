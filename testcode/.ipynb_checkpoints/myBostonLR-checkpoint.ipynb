{
 "cells": [
  {
   "cell_type": "markdown",
   "id": "512576e2",
   "metadata": {},
   "source": []
  },
  {
   "cell_type": "code",
   "execution_count": 23,
   "id": "65f0b8fa",
   "metadata": {},
   "outputs": [],
   "source": [
    "from sklearn.datasets import load_boston\n",
    "from sklearn.model_selection import train_test_split\n",
    "import numpy as np\n",
    "import pandas as pd\n",
    "import matplotlib.pyplot as plt\n",
    "from matplotlib import font_manager as fm, rcParams\n"
   ]
  },
  {
   "cell_type": "code",
   "execution_count": 24,
   "id": "d6183322",
   "metadata": {},
   "outputs": [
    {
     "name": "stdout",
     "output_type": "stream",
     "text": [
      "<class 'sklearn.utils.Bunch'> <class 'numpy.ndarray'>\n"
     ]
    }
   ],
   "source": [
    "#线性回归\n",
    "\n",
    "# 1.获取数据\n",
    "boston = load_boston()  # 获取波士顿房价的数据\n",
    "x = boston.data[:, :]  # 取数据第五列为 x 的值\n",
    "y = boston.target  # 取 y 值\n",
    "print(type(boston),type(x))"
   ]
  },
  {
   "cell_type": "markdown",
   "id": "9051ef35",
   "metadata": {},
   "source": [
    "'feature_names': array(['CRIM', 'ZN', 'INDUS', 'CHAS', 'NOX', 'RM', 'AGE', 'DIS', 'RAD','TAX', 'PTRATIO', 'B', 'LSTAT']"
   ]
  },
  {
   "cell_type": "code",
   "execution_count": 25,
   "id": "e2ca63a6",
   "metadata": {},
   "outputs": [
    {
     "data": {
      "text/plain": [
       "((379, 14), (127, 14), (1, 379), (1, 127), (1, 14))"
      ]
     },
     "execution_count": 25,
     "metadata": {},
     "output_type": "execute_result"
    }
   ],
   "source": [
    "# 2.训练模型\n",
    "#from sklearn.linear_model import LinearRegression\n",
    "#model2 = LinearRegression().fit(x, y)\n",
    "#划分训练集和测试集\n",
    "x_train,x_test,y_train,y_test=train_test_split(x,y,test_size=0.25,random_state = 0)\n",
    "#将数据转换成numpy矩阵\n",
    "x_train=np.matrix(x_train)\n",
    "y_train=np.matrix(y_train)\n",
    "x_test=np.matrix(x_test)\n",
    "y_test=np.matrix(y_test)\n",
    "# 初始化theta矩阵\n",
    "theta = np.matrix([0,0,0,0,0,0,0,0,0,0,0,0,0,0])\n",
    "x_train.shape,x_test.shape,y_train.shape,y_test.shape,theta.shape\n",
    "\n",
    "#添加偏置列(常数项)\n",
    "x_train = np.insert(x_train, 0, 1, axis=1) \n",
    "x_test = np.insert(x_test,0,1,axis=1)\n",
    "x_train.shape,x_test.shape,y_train.shape,y_test.shape,theta.shape"
   ]
  },
  {
   "cell_type": "code",
   "execution_count": 26,
   "id": "1f262e0e",
   "metadata": {},
   "outputs": [],
   "source": [
    "#生成随机数组\n",
    "import random\n",
    "def GetRandomArray(min,max,num):\n",
    "    ls=random.sample(range(min,max),num)\n",
    "    ls.sort()\n",
    "    print(ls)\n",
    "    return ls"
   ]
  },
  {
   "cell_type": "code",
   "execution_count": 27,
   "id": "99436fa0",
   "metadata": {},
   "outputs": [],
   "source": [
    "# 代价函数\n",
    "def CostFunction(x,y,theta):\n",
    "    inner = np.power(x*theta.T-y, 2)\n",
    "    return np.sum(inner)/2*(len(x))"
   ]
  },
  {
   "cell_type": "code",
   "execution_count": 28,
   "id": "751e4a01",
   "metadata": {},
   "outputs": [],
   "source": [
    "# 正则化代价函数\n",
    "def regularizedcost(x,y,theta,l):\n",
    "    reg = (l/(2*len(x)))*(np.power(theta, 2).sum())    \n",
    "    return CostFunction(x,y,theta) + reg"
   ]
  },
  {
   "cell_type": "code",
   "execution_count": 29,
   "id": "7b5b3b34",
   "metadata": {},
   "outputs": [],
   "source": [
    "# 梯度下降\n",
    "def GradientDescent(x,y,theta,l,alpha,epoch):\n",
    "    temp = np.matrix(np.zeros(np.shape(theta)))   # 定义临时矩阵存储tehta\n",
    "    parameters = int(theta.flatten().shape[1])    # 参数 θ的数量\n",
    "    cost = np.zeros(epoch)  # 初始化一个ndarray，包含每次epoch的cost\n",
    "    m = x.shape[0]  # 样本数量m\n",
    "    for i in range(epoch):\n",
    "        # 利用向量化一步求解\n",
    "        temp = theta - (alpha / m) * (x * theta.T - y).T * x - (alpha*l/m)*theta     # 添加了正则项\n",
    "        theta = temp\n",
    "        cost[i] = CostFuction(x, y, theta)      # 记录每次迭代后的代价函数值\n",
    "\n",
    "    return theta,cost   "
   ]
  },
  {
   "cell_type": "code",
   "execution_count": 30,
   "id": "e084c267",
   "metadata": {},
   "outputs": [
    {
     "ename": "NameError",
     "evalue": "name 'CostFuction' is not defined",
     "output_type": "error",
     "traceback": [
      "\u001b[0;31m---------------------------------------------------------------------------\u001b[0m",
      "\u001b[0;31mNameError\u001b[0m                                 Traceback (most recent call last)",
      "\u001b[0;32m/tmp/ipykernel_6885/330883846.py\u001b[0m in \u001b[0;36m<module>\u001b[0;34m\u001b[0m\n\u001b[1;32m      2\u001b[0m \u001b[0mepoch\u001b[0m \u001b[0;34m=\u001b[0m \u001b[0;36m10\u001b[0m \u001b[0;31m#迭代步数\u001b[0m\u001b[0;34m\u001b[0m\u001b[0;34m\u001b[0m\u001b[0m\n\u001b[1;32m      3\u001b[0m \u001b[0ml\u001b[0m \u001b[0;34m=\u001b[0m \u001b[0;36m50\u001b[0m      \u001b[0;31m#正则化参数\u001b[0m\u001b[0;34m\u001b[0m\u001b[0;34m\u001b[0m\u001b[0m\n\u001b[0;32m----> 4\u001b[0;31m \u001b[0mfinal_theta\u001b[0m\u001b[0;34m,\u001b[0m \u001b[0mcost\u001b[0m \u001b[0;34m=\u001b[0m \u001b[0mGradientDescent\u001b[0m\u001b[0;34m(\u001b[0m\u001b[0mx_train\u001b[0m\u001b[0;34m,\u001b[0m \u001b[0my_train\u001b[0m\u001b[0;34m,\u001b[0m \u001b[0mtheta\u001b[0m\u001b[0;34m,\u001b[0m \u001b[0ml\u001b[0m\u001b[0;34m,\u001b[0m \u001b[0malpha\u001b[0m\u001b[0;34m,\u001b[0m \u001b[0mepoch\u001b[0m\u001b[0;34m)\u001b[0m\u001b[0;34m\u001b[0m\u001b[0;34m\u001b[0m\u001b[0m\n\u001b[0m\u001b[1;32m      5\u001b[0m \u001b[0mprint\u001b[0m\u001b[0;34m(\u001b[0m\u001b[0mfinal_theta\u001b[0m\u001b[0;34m)\u001b[0m\u001b[0;34m\u001b[0m\u001b[0;34m\u001b[0m\u001b[0m\n",
      "\u001b[0;32m/tmp/ipykernel_6885/1584043797.py\u001b[0m in \u001b[0;36mGradientDescent\u001b[0;34m(x, y, theta, l, alpha, epoch)\u001b[0m\n\u001b[1;32m      9\u001b[0m         \u001b[0mtemp\u001b[0m \u001b[0;34m=\u001b[0m \u001b[0mtheta\u001b[0m \u001b[0;34m-\u001b[0m \u001b[0;34m(\u001b[0m\u001b[0malpha\u001b[0m \u001b[0;34m/\u001b[0m \u001b[0mm\u001b[0m\u001b[0;34m)\u001b[0m \u001b[0;34m*\u001b[0m \u001b[0;34m(\u001b[0m\u001b[0mx\u001b[0m \u001b[0;34m*\u001b[0m \u001b[0mtheta\u001b[0m\u001b[0;34m.\u001b[0m\u001b[0mT\u001b[0m \u001b[0;34m-\u001b[0m \u001b[0my\u001b[0m\u001b[0;34m)\u001b[0m\u001b[0;34m.\u001b[0m\u001b[0mT\u001b[0m \u001b[0;34m*\u001b[0m \u001b[0mx\u001b[0m \u001b[0;34m-\u001b[0m \u001b[0;34m(\u001b[0m\u001b[0malpha\u001b[0m\u001b[0;34m*\u001b[0m\u001b[0ml\u001b[0m\u001b[0;34m/\u001b[0m\u001b[0mm\u001b[0m\u001b[0;34m)\u001b[0m\u001b[0;34m*\u001b[0m\u001b[0mtheta\u001b[0m     \u001b[0;31m# 添加了正则项\u001b[0m\u001b[0;34m\u001b[0m\u001b[0;34m\u001b[0m\u001b[0m\n\u001b[1;32m     10\u001b[0m         \u001b[0mtheta\u001b[0m \u001b[0;34m=\u001b[0m \u001b[0mtemp\u001b[0m\u001b[0;34m\u001b[0m\u001b[0;34m\u001b[0m\u001b[0m\n\u001b[0;32m---> 11\u001b[0;31m         \u001b[0mcost\u001b[0m\u001b[0;34m[\u001b[0m\u001b[0mi\u001b[0m\u001b[0;34m]\u001b[0m \u001b[0;34m=\u001b[0m \u001b[0mCostFuction\u001b[0m\u001b[0;34m(\u001b[0m\u001b[0mx\u001b[0m\u001b[0;34m,\u001b[0m \u001b[0my\u001b[0m\u001b[0;34m,\u001b[0m \u001b[0mtheta\u001b[0m\u001b[0;34m,\u001b[0m \u001b[0ml\u001b[0m\u001b[0;34m)\u001b[0m      \u001b[0;31m# 记录每次迭代后的代价函数值\u001b[0m\u001b[0;34m\u001b[0m\u001b[0;34m\u001b[0m\u001b[0m\n\u001b[0m\u001b[1;32m     12\u001b[0m \u001b[0;34m\u001b[0m\u001b[0m\n\u001b[1;32m     13\u001b[0m     \u001b[0;32mreturn\u001b[0m \u001b[0mtheta\u001b[0m\u001b[0;34m,\u001b[0m\u001b[0mcost\u001b[0m\u001b[0;34m\u001b[0m\u001b[0;34m\u001b[0m\u001b[0m\n",
      "\u001b[0;31mNameError\u001b[0m: name 'CostFuction' is not defined"
     ]
    }
   ],
   "source": [
    "alpha = 0.01  #学习速率\n",
    "epoch = 10 #迭代步数\n",
    "l = 50      #正则化参数\n",
    "final_theta, cost = GradientDescent(x_train, y_train, theta, l, alpha, epoch)\n",
    "print(final_theta)"
   ]
  },
  {
   "cell_type": "code",
   "execution_count": null,
   "id": "945b0191",
   "metadata": {},
   "outputs": [],
   "source": [
    "# 模型评估\n",
    "y_hat_train = x_train * final_theta.T\n",
    "y_hat_test = x_test * final_theta.T\n",
    "mse = np.sum(np.power(y_hat_test-y_test.T,2))/(len(x_test))\n",
    "rmse = np.sqrt(mse)\n",
    "R2_train = 1 - np.sum(np.power(y_hat_train - y_train.T,2))/np.sum(np.power(np.mean(y_train) - y_train,2))\n",
    "R2_test = 1 - np.sum(np.power(y_hat_test - y_test.T,2))/np.sum(np.power(np.mean(y_test) - y_test,2))\n",
    "print('MSE = ', mse)\n",
    "print('RMSE = ', rmse)\n",
    "print('R2_train = ', R2_train)\n",
    "print('R2_test = ', R2_test)"
   ]
  },
  {
   "cell_type": "code",
   "execution_count": null,
   "id": "6f0ee8c1",
   "metadata": {},
   "outputs": [],
   "source": [
    "# 绘制迭代曲线\n",
    "fig, ax = plt.subplots(figsize=(8,4))\n",
    "ax.plot(np.arange(epoch), cost, 'r')  # np.arange()返回等差数组\n",
    "ax.set_xlabel('Iterations')\n",
    "ax.set_ylabel('Cost')\n",
    "ax.set_title('Error vs. Training Epoch')\n",
    "plt.show()"
   ]
  },
  {
   "cell_type": "code",
   "execution_count": null,
   "id": "505f97e3",
   "metadata": {},
   "outputs": [],
   "source": [
    "# 图例展示预测值与真实值的变化趋势\n",
    "from matplotlib import font_manager as fm, rcParams\n",
    "plt.rcParams['font.sans-serif']=['SimHei'] #显示中文标签\n",
    "plt.rcParams['axes.unicode_minus']=False \n",
    "plt.figure(facecolor='w')\n",
    "t = np.arange(len(x_test))  #创建等差数组\n",
    "plt.plot(t, y_test.T, 'r-', linewidth=2, label=u'真实数据')\n",
    "plt.plot(t, y_hat_test, 'b-', linewidth=2, label=u'预测数据')\n",
    "plt.legend(loc='upper right')\n",
    "plt.title(u'线性回归预测房价', fontsize=18)\n",
    "plt.grid(b=True, linestyle='--')"
   ]
  },
  {
   "cell_type": "code",
   "execution_count": null,
   "id": "a5adc1ff",
   "metadata": {},
   "outputs": [],
   "source": []
  }
 ],
 "metadata": {
  "kernelspec": {
   "display_name": "Python 3 (ipykernel)",
   "language": "python",
   "name": "python3"
  },
  "language_info": {
   "codemirror_mode": {
    "name": "ipython",
    "version": 3
   },
   "file_extension": ".py",
   "mimetype": "text/x-python",
   "name": "python",
   "nbconvert_exporter": "python",
   "pygments_lexer": "ipython3",
   "version": "3.9.5"
  }
 },
 "nbformat": 4,
 "nbformat_minor": 5
}

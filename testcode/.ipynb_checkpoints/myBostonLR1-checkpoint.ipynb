{
 "cells": [
  {
   "cell_type": "markdown",
   "id": "512576e2",
   "metadata": {},
   "source": []
  },
  {
   "cell_type": "code",
   "execution_count": 1,
   "id": "65f0b8fa",
   "metadata": {},
   "outputs": [],
   "source": [
    "from sklearn.datasets import load_boston\n",
    "from sklearn.model_selection import train_test_split\n",
    "import numpy as np\n",
    "import pandas as pd\n",
    "import matplotlib.pyplot as plt\n",
    "from matplotlib import font_manager as fm, rcParams\n"
   ]
  },
  {
   "cell_type": "code",
   "execution_count": 2,
   "id": "d6183322",
   "metadata": {},
   "outputs": [
    {
     "name": "stdout",
     "output_type": "stream",
     "text": [
      "<class 'sklearn.utils.Bunch'>\n"
     ]
    }
   ],
   "source": [
    "#线性回归\n",
    "\n",
    "# 1.获取数据\n",
    "boston = load_boston()  # 获取波士顿房价的数据\n",
    "print(type(boston))\n",
    "x = boston.data[:, :]  # 取数据第五列为 x 的值\n",
    "y = boston.target  # 取 y 值"
   ]
  },
  {
   "cell_type": "code",
   "execution_count": 3,
   "id": "9fa8b2bf",
   "metadata": {},
   "outputs": [
    {
     "name": "stdout",
     "output_type": "stream",
     "text": [
      "[[1.30119175e+01 4.40413223e+01 7.79120214e+01 ... 9.95739228e+00\n",
      "  1.61812853e+03 5.88758995e+01]\n",
      " [1.28609277e+01 1.29132231e+02 1.65386886e+01 ... 4.29724297e-01\n",
      "  1.61812853e+03 1.23416133e+01]\n",
      " [1.28610711e+01 1.29132231e+02 1.65386886e+01 ... 4.29724297e-01\n",
      "  1.30725405e+03 7.43572197e+01]\n",
      " ...\n",
      " [1.26221289e+01 1.29132231e+02 6.29200100e-01 ... 6.47430928e+00\n",
      "  1.61812853e+03 4.91830560e+01]\n",
      " [1.22775504e+01 1.29132231e+02 6.29200100e-01 ... 6.47430928e+00\n",
      "  1.35247185e+03 3.81067098e+01]\n",
      " [1.27171659e+01 1.29132231e+02 6.29200100e-01 ... 6.47430928e+00\n",
      "  1.61812853e+03 2.27821327e+01]]\n"
     ]
    }
   ],
   "source": [
    "#数据无量纲化 采用z-score数据标准化\n",
    "x_mean=np.sum(x,axis=0)/x.shape[0] #x_mean=x.mean\n",
    "a=np.power(x-x_mean,2)\n",
    "#print(x_mean,\"\\n\",x.mean(axis=0))\n",
    "print((x-x_mean)*(x-x_mean))#np.power(x-x_mean,2)\n",
    "x_std=np.sqrt(np.sum(a/x.shape[0]))\n",
    "x=(x-x_mean)/x_std"
   ]
  },
  {
   "cell_type": "markdown",
   "id": "9051ef35",
   "metadata": {},
   "source": [
    "'feature_names': array(['CRIM', 'ZN', 'INDUS', 'CHAS', 'NOX', 'RM', 'AGE', 'DIS', 'RAD','TAX', 'PTRATIO', 'B', 'LSTAT']"
   ]
  },
  {
   "cell_type": "code",
   "execution_count": 4,
   "id": "e2ca63a6",
   "metadata": {},
   "outputs": [
    {
     "data": {
      "text/plain": [
       "((379, 14), (127, 14), (1, 379), (1, 127), (1, 14))"
      ]
     },
     "execution_count": 4,
     "metadata": {},
     "output_type": "execute_result"
    }
   ],
   "source": [
    "# 2.训练模型\n",
    "#from sklearn.linear_model import LinearRegression\n",
    "#model2 = LinearRegression().fit(x, y)\n",
    "#划分训练集和测试集\n",
    "x_train,x_test,y_train,y_test=train_test_split(x,y,test_size=0.25,random_state = 0)\n",
    "#将数据转换成numpy矩阵\n",
    "x_train=np.matrix(x_train)\n",
    "y_train=np.matrix(y_train)\n",
    "x_test=np.matrix(x_test)\n",
    "y_test=np.matrix(y_test)\n",
    "# 初始化theta矩阵\n",
    "theta = np.matrix([0,0,0,0,0,0,0,0,0,0,0,0,0,0])\n",
    "x_train.shape,x_test.shape,y_train.shape,y_test.shape,theta.shape\n",
    "\n",
    "#添加偏置列(常数项)\n",
    "x_train = np.insert(x_train, 0, 1, axis=1) \n",
    "x_test = np.insert(x_test,0,1,axis=1)\n",
    "x_train.shape,x_test.shape,y_train.shape,y_test.shape,theta.shape"
   ]
  },
  {
   "cell_type": "code",
   "execution_count": 5,
   "id": "99436fa0",
   "metadata": {},
   "outputs": [],
   "source": [
    "# 代价函数\n",
    "def CostFunction(x,y,theta):\n",
    "    inner = np.power(x*theta.T-y, 2)\n",
    "    return np.sum(inner)/(2*len(x))"
   ]
  },
  {
   "cell_type": "code",
   "execution_count": 6,
   "id": "751e4a01",
   "metadata": {},
   "outputs": [],
   "source": [
    "# 正则化代价函数\n",
    "def regularizedcost(x,y,theta,l):\n",
    "    reg = (l/(2*len(x)))*(np.power(theta, 2).sum())    \n",
    "    return CostFunction(x,y,theta) + reg"
   ]
  },
  {
   "cell_type": "code",
   "execution_count": 7,
   "id": "7b5b3b34",
   "metadata": {},
   "outputs": [],
   "source": [
    "# 梯度下降\n",
    "def GradientDescent(x,y,theta,l,alpha,epoch):\n",
    "    temp = np.matrix(np.zeros(np.shape(theta)))   # 定义临时矩阵存储tehta\n",
    "    parameters = int(theta.flatten().shape[1])    # 参数 θ的数量\n",
    "    cost = np.zeros(epoch)  # 初始化一个ndarray，包含每次epoch的cost\n",
    "    m = x.shape[0]  # 样本数量m\n",
    "    for i in range(epoch):\n",
    "        # 利用向量化一步求解\n",
    "        temp = theta - (alpha / m) * (x * theta.T - y).T * x - (alpha*l/m)*theta     # 添加了正则项\n",
    "        theta = temp\n",
    "        cost[i] = regularizedcost(x, y, theta, l)      # 记录每次迭代后的代价函数值\n",
    "\n",
    "    return theta,cost   "
   ]
  },
  {
   "cell_type": "code",
   "execution_count": 8,
   "id": "e084c267",
   "metadata": {},
   "outputs": [
    {
     "name": "stdout",
     "output_type": "stream",
     "text": [
      "[[ 1.63418493e+01 -6.38161113e-03  2.44348516e-02 ...  4.92700455e-03\n",
      "   4.52280749e-02 -8.24179891e-05]\n",
      " [ 1.73135268e+01 -6.76105827e-03  2.58877346e-02 ...  5.21996158e-03\n",
      "   4.79173118e-02 -8.73185182e-05]\n",
      " [ 2.93269943e+01 -1.14524048e-02  4.38506525e-02 ...  8.84197574e-03\n",
      "   8.11660587e-02 -1.47906878e-04]\n",
      " ...\n",
      " [ 1.69601895e+01 -6.62307749e-03  2.53594135e-02 ...  5.11343175e-03\n",
      "   4.69394075e-02 -8.55365077e-05]\n",
      " [ 1.46634972e+01 -5.72620242e-03  2.19253263e-02 ...  4.42098787e-03\n",
      "   4.05830294e-02 -7.39534389e-05]\n",
      " [ 2.04052280e+01 -7.96839011e-03  3.05105444e-02 ...  6.15209758e-03\n",
      "   5.64739746e-02 -1.02911111e-04]]\n"
     ]
    }
   ],
   "source": [
    "alpha = 0.01  #学习速率\n",
    "epoch = 1000  #迭代步数\n",
    "l = 50      #正则化参数\n",
    "final_theta, cost = GradientDescent(x_train, y_train, theta, l, alpha, epoch)\n",
    "print(final_theta)"
   ]
  },
  {
   "cell_type": "code",
   "execution_count": 9,
   "id": "6f0ee8c1",
   "metadata": {},
   "outputs": [
    {
     "ename": "NameError",
     "evalue": "name 'model2' is not defined",
     "output_type": "error",
     "traceback": [
      "\u001b[0;31m---------------------------------------------------------------------------\u001b[0m",
      "\u001b[0;31mNameError\u001b[0m                                 Traceback (most recent call last)",
      "\u001b[0;32m/tmp/ipykernel_14258/1863909696.py\u001b[0m in \u001b[0;36m<module>\u001b[0;34m\u001b[0m\n\u001b[1;32m      1\u001b[0m \u001b[0;31m# 3.模型预测\u001b[0m\u001b[0;34m\u001b[0m\u001b[0;34m\u001b[0m\u001b[0;34m\u001b[0m\u001b[0m\n\u001b[0;32m----> 2\u001b[0;31m \u001b[0mpre\u001b[0m \u001b[0;34m=\u001b[0m \u001b[0mmodel2\u001b[0m\u001b[0;34m.\u001b[0m\u001b[0mpredict\u001b[0m\u001b[0;34m(\u001b[0m\u001b[0mx\u001b[0m\u001b[0;34m)\u001b[0m\u001b[0;34m\u001b[0m\u001b[0;34m\u001b[0m\u001b[0m\n\u001b[0m",
      "\u001b[0;31mNameError\u001b[0m: name 'model2' is not defined"
     ]
    }
   ],
   "source": [
    "# 3.模型预测\n",
    "pre = model2.predict(x)"
   ]
  },
  {
   "cell_type": "code",
   "execution_count": null,
   "id": "505f97e3",
   "metadata": {},
   "outputs": [],
   "source": [
    "# 4.绘制结果\n",
    "plt.scatter(x, y, color='red')\n",
    "plt.plot(x, pre)\n",
    "plt.show()\n"
   ]
  },
  {
   "cell_type": "code",
   "execution_count": null,
   "id": "a5adc1ff",
   "metadata": {},
   "outputs": [],
   "source": []
  }
 ],
 "metadata": {
  "kernelspec": {
   "display_name": "Python 3 (ipykernel)",
   "language": "python",
   "name": "python3"
  },
  "language_info": {
   "codemirror_mode": {
    "name": "ipython",
    "version": 3
   },
   "file_extension": ".py",
   "mimetype": "text/x-python",
   "name": "python",
   "nbconvert_exporter": "python",
   "pygments_lexer": "ipython3",
   "version": "3.9.5"
  }
 },
 "nbformat": 4,
 "nbformat_minor": 5
}
